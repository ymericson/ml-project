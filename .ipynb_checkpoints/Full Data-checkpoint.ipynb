{
 "cells": [
  {
   "cell_type": "code",
   "execution_count": 1,
   "metadata": {},
   "outputs": [],
   "source": [
    "import pandas as pd\n",
    "import numpy as np\n",
    "import seaborn as sns\n",
    "import matplotlib.pyplot as plt\n",
    "import geopandas as gpd\n",
    "import censusdata\n",
    "import censusdata\n",
    "import geopandas as gpd"
   ]
  },
  {
   "cell_type": "code",
   "execution_count": 2,
   "metadata": {},
   "outputs": [],
   "source": [
    "census = pd.read_csv(\"data/Census data.csv\")\n",
    "crimes = pd.read_csv(\"data/crimes.csv\")\n",
    "cta = pd.read_csv(\"data/cta_dist.csv\")\n",
    "sales = pd.read_csv(\"data/sales_gdf.csv\")"
   ]
  },
  {
   "cell_type": "code",
   "execution_count": 3,
   "metadata": {},
   "outputs": [
    {
     "data": {
      "text/html": [
       "<div>\n",
       "<style scoped>\n",
       "    .dataframe tbody tr th:only-of-type {\n",
       "        vertical-align: middle;\n",
       "    }\n",
       "\n",
       "    .dataframe tbody tr th {\n",
       "        vertical-align: top;\n",
       "    }\n",
       "\n",
       "    .dataframe thead th {\n",
       "        text-align: right;\n",
       "    }\n",
       "</style>\n",
       "<table border=\"1\" class=\"dataframe\">\n",
       "  <thead>\n",
       "    <tr style=\"text-align: right;\">\n",
       "      <th></th>\n",
       "      <th>GEO_ID</th>\n",
       "      <th>Year</th>\n",
       "      <th>Total Population</th>\n",
       "      <th>Median Age</th>\n",
       "      <th>Median HH Income</th>\n",
       "      <th>Total Housing Units</th>\n",
       "      <th>Median Number of Rooms</th>\n",
       "      <th>Median Year Built</th>\n",
       "      <th>Median Gross Rent</th>\n",
       "      <th>Mean HH Size</th>\n",
       "      <th>Percent White</th>\n",
       "      <th>Percent Black</th>\n",
       "      <th>Percent HH with Children</th>\n",
       "      <th>Percent Housing Vacant</th>\n",
       "      <th>geo_12</th>\n",
       "      <th>Number of Public Schools</th>\n",
       "    </tr>\n",
       "  </thead>\n",
       "  <tbody>\n",
       "    <tr>\n",
       "      <th>0</th>\n",
       "      <td>1500000US170310302003</td>\n",
       "      <td>2013</td>\n",
       "      <td>1064.0</td>\n",
       "      <td>40.7</td>\n",
       "      <td>160893.0</td>\n",
       "      <td>450.0</td>\n",
       "      <td>7.3</td>\n",
       "      <td>1939.0</td>\n",
       "      <td>963.0</td>\n",
       "      <td>2.60</td>\n",
       "      <td>0.916353</td>\n",
       "      <td>0.000000</td>\n",
       "      <td>0.604348</td>\n",
       "      <td>0.088889</td>\n",
       "      <td>170310302003</td>\n",
       "      <td>0.0</td>\n",
       "    </tr>\n",
       "    <tr>\n",
       "      <th>1</th>\n",
       "      <td>1500000US170310302004</td>\n",
       "      <td>2013</td>\n",
       "      <td>1828.0</td>\n",
       "      <td>26.7</td>\n",
       "      <td>60568.0</td>\n",
       "      <td>711.0</td>\n",
       "      <td>5.1</td>\n",
       "      <td>1939.0</td>\n",
       "      <td>1150.0</td>\n",
       "      <td>2.54</td>\n",
       "      <td>0.818381</td>\n",
       "      <td>0.085339</td>\n",
       "      <td>0.638060</td>\n",
       "      <td>0.000000</td>\n",
       "      <td>170310302004</td>\n",
       "      <td>1.0</td>\n",
       "    </tr>\n",
       "    <tr>\n",
       "      <th>2</th>\n",
       "      <td>1500000US170310303001</td>\n",
       "      <td>2013</td>\n",
       "      <td>1306.0</td>\n",
       "      <td>36.1</td>\n",
       "      <td>28621.0</td>\n",
       "      <td>747.0</td>\n",
       "      <td>4.1</td>\n",
       "      <td>1945.0</td>\n",
       "      <td>868.0</td>\n",
       "      <td>2.04</td>\n",
       "      <td>0.556662</td>\n",
       "      <td>0.231240</td>\n",
       "      <td>0.665072</td>\n",
       "      <td>0.143240</td>\n",
       "      <td>170310303001</td>\n",
       "      <td>0.0</td>\n",
       "    </tr>\n",
       "    <tr>\n",
       "      <th>3</th>\n",
       "      <td>1500000US170310303002</td>\n",
       "      <td>2013</td>\n",
       "      <td>1625.0</td>\n",
       "      <td>35.7</td>\n",
       "      <td>38257.0</td>\n",
       "      <td>801.0</td>\n",
       "      <td>4.1</td>\n",
       "      <td>1943.0</td>\n",
       "      <td>838.0</td>\n",
       "      <td>2.22</td>\n",
       "      <td>0.700308</td>\n",
       "      <td>0.047385</td>\n",
       "      <td>0.524590</td>\n",
       "      <td>0.084894</td>\n",
       "      <td>170310303002</td>\n",
       "      <td>0.0</td>\n",
       "    </tr>\n",
       "    <tr>\n",
       "      <th>4</th>\n",
       "      <td>1500000US170310304001</td>\n",
       "      <td>2013</td>\n",
       "      <td>1450.0</td>\n",
       "      <td>36.0</td>\n",
       "      <td>26875.0</td>\n",
       "      <td>877.0</td>\n",
       "      <td>4.1</td>\n",
       "      <td>1961.0</td>\n",
       "      <td>732.0</td>\n",
       "      <td>1.85</td>\n",
       "      <td>0.693793</td>\n",
       "      <td>0.133793</td>\n",
       "      <td>0.427673</td>\n",
       "      <td>0.104903</td>\n",
       "      <td>170310304001</td>\n",
       "      <td>0.0</td>\n",
       "    </tr>\n",
       "  </tbody>\n",
       "</table>\n",
       "</div>"
      ],
      "text/plain": [
       "                  GEO_ID  Year  Total Population  Median Age  \\\n",
       "0  1500000US170310302003  2013            1064.0        40.7   \n",
       "1  1500000US170310302004  2013            1828.0        26.7   \n",
       "2  1500000US170310303001  2013            1306.0        36.1   \n",
       "3  1500000US170310303002  2013            1625.0        35.7   \n",
       "4  1500000US170310304001  2013            1450.0        36.0   \n",
       "\n",
       "   Median HH Income  Total Housing Units  Median Number of Rooms  \\\n",
       "0          160893.0                450.0                     7.3   \n",
       "1           60568.0                711.0                     5.1   \n",
       "2           28621.0                747.0                     4.1   \n",
       "3           38257.0                801.0                     4.1   \n",
       "4           26875.0                877.0                     4.1   \n",
       "\n",
       "   Median Year Built  Median Gross Rent  Mean HH Size  Percent White  \\\n",
       "0             1939.0              963.0          2.60       0.916353   \n",
       "1             1939.0             1150.0          2.54       0.818381   \n",
       "2             1945.0              868.0          2.04       0.556662   \n",
       "3             1943.0              838.0          2.22       0.700308   \n",
       "4             1961.0              732.0          1.85       0.693793   \n",
       "\n",
       "   Percent Black  Percent HH with Children  Percent Housing Vacant  \\\n",
       "0       0.000000                  0.604348                0.088889   \n",
       "1       0.085339                  0.638060                0.000000   \n",
       "2       0.231240                  0.665072                0.143240   \n",
       "3       0.047385                  0.524590                0.084894   \n",
       "4       0.133793                  0.427673                0.104903   \n",
       "\n",
       "         geo_12  Number of Public Schools  \n",
       "0  170310302003                       0.0  \n",
       "1  170310302004                       1.0  \n",
       "2  170310303001                       0.0  \n",
       "3  170310303002                       0.0  \n",
       "4  170310304001                       0.0  "
      ]
     },
     "execution_count": 3,
     "metadata": {},
     "output_type": "execute_result"
    }
   ],
   "source": [
    "census.head()"
   ]
  },
  {
   "cell_type": "code",
   "execution_count": 4,
   "metadata": {},
   "outputs": [
    {
     "data": {
      "text/html": [
       "<div>\n",
       "<style scoped>\n",
       "    .dataframe tbody tr th:only-of-type {\n",
       "        vertical-align: middle;\n",
       "    }\n",
       "\n",
       "    .dataframe tbody tr th {\n",
       "        vertical-align: top;\n",
       "    }\n",
       "\n",
       "    .dataframe thead th {\n",
       "        text-align: right;\n",
       "    }\n",
       "</style>\n",
       "<table border=\"1\" class=\"dataframe\">\n",
       "  <thead>\n",
       "    <tr style=\"text-align: right;\">\n",
       "      <th></th>\n",
       "      <th>GEO_ID</th>\n",
       "      <th>Year</th>\n",
       "      <th>crime_count</th>\n",
       "      <th>total_pop</th>\n",
       "      <th>crimes_per_capita</th>\n",
       "    </tr>\n",
       "  </thead>\n",
       "  <tbody>\n",
       "    <tr>\n",
       "      <th>0</th>\n",
       "      <td>1500000US170310101001</td>\n",
       "      <td>2013</td>\n",
       "      <td>486</td>\n",
       "      <td>251586</td>\n",
       "      <td>0.001932</td>\n",
       "    </tr>\n",
       "    <tr>\n",
       "      <th>1</th>\n",
       "      <td>1500000US170310101001</td>\n",
       "      <td>2014</td>\n",
       "      <td>456</td>\n",
       "      <td>236056</td>\n",
       "      <td>0.001932</td>\n",
       "    </tr>\n",
       "    <tr>\n",
       "      <th>2</th>\n",
       "      <td>1500000US170310101001</td>\n",
       "      <td>2015</td>\n",
       "      <td>546</td>\n",
       "      <td>282646</td>\n",
       "      <td>0.001932</td>\n",
       "    </tr>\n",
       "    <tr>\n",
       "      <th>3</th>\n",
       "      <td>1500000US170310101001</td>\n",
       "      <td>2016</td>\n",
       "      <td>366</td>\n",
       "      <td>189466</td>\n",
       "      <td>0.001932</td>\n",
       "    </tr>\n",
       "    <tr>\n",
       "      <th>4</th>\n",
       "      <td>1500000US170310101001</td>\n",
       "      <td>2017</td>\n",
       "      <td>474</td>\n",
       "      <td>245374</td>\n",
       "      <td>0.001932</td>\n",
       "    </tr>\n",
       "  </tbody>\n",
       "</table>\n",
       "</div>"
      ],
      "text/plain": [
       "                  GEO_ID  Year  crime_count  total_pop  crimes_per_capita\n",
       "0  1500000US170310101001  2013          486     251586           0.001932\n",
       "1  1500000US170310101001  2014          456     236056           0.001932\n",
       "2  1500000US170310101001  2015          546     282646           0.001932\n",
       "3  1500000US170310101001  2016          366     189466           0.001932\n",
       "4  1500000US170310101001  2017          474     245374           0.001932"
      ]
     },
     "execution_count": 4,
     "metadata": {},
     "output_type": "execute_result"
    }
   ],
   "source": [
    "crimes = crimes.rename(columns={\"geo_id\": \"GEO_ID\", \"year\": \"Year\"})\n",
    "crimes = crimes[['GEO_ID', 'Year', 'crime_count', 'total_pop', 'crimes_per_capita']]\n",
    "crimes.head()"
   ]
  },
  {
   "cell_type": "code",
   "execution_count": 5,
   "metadata": {},
   "outputs": [
    {
     "data": {
      "text/html": [
       "<div>\n",
       "<style scoped>\n",
       "    .dataframe tbody tr th:only-of-type {\n",
       "        vertical-align: middle;\n",
       "    }\n",
       "\n",
       "    .dataframe tbody tr th {\n",
       "        vertical-align: top;\n",
       "    }\n",
       "\n",
       "    .dataframe thead th {\n",
       "        text-align: right;\n",
       "    }\n",
       "</style>\n",
       "<table border=\"1\" class=\"dataframe\">\n",
       "  <thead>\n",
       "    <tr style=\"text-align: right;\">\n",
       "      <th></th>\n",
       "      <th>GEO_ID</th>\n",
       "      <th>stop_id</th>\n",
       "      <th>station_name</th>\n",
       "      <th>distance_miles</th>\n",
       "    </tr>\n",
       "  </thead>\n",
       "  <tbody>\n",
       "    <tr>\n",
       "      <th>0</th>\n",
       "      <td>1500000US170318418001</td>\n",
       "      <td>30140</td>\n",
       "      <td>Cottage Grove</td>\n",
       "      <td>0.537042</td>\n",
       "    </tr>\n",
       "    <tr>\n",
       "      <th>1</th>\n",
       "      <td>1500000US170312518001</td>\n",
       "      <td>30136</td>\n",
       "      <td>Laramie</td>\n",
       "      <td>0.113297</td>\n",
       "    </tr>\n",
       "    <tr>\n",
       "      <th>2</th>\n",
       "      <td>1500000US170316604003</td>\n",
       "      <td>30220</td>\n",
       "      <td>Kedzie</td>\n",
       "      <td>0.350314</td>\n",
       "    </tr>\n",
       "    <tr>\n",
       "      <th>3</th>\n",
       "      <td>1500000US170315102002</td>\n",
       "      <td>30089</td>\n",
       "      <td>95th/Dan Ryan</td>\n",
       "      <td>4.226759</td>\n",
       "    </tr>\n",
       "    <tr>\n",
       "      <th>4</th>\n",
       "      <td>1500000US170316718001</td>\n",
       "      <td>30057</td>\n",
       "      <td>Ashland/63rd</td>\n",
       "      <td>0.560197</td>\n",
       "    </tr>\n",
       "  </tbody>\n",
       "</table>\n",
       "</div>"
      ],
      "text/plain": [
       "                  GEO_ID  stop_id   station_name  distance_miles\n",
       "0  1500000US170318418001    30140  Cottage Grove        0.537042\n",
       "1  1500000US170312518001    30136        Laramie        0.113297\n",
       "2  1500000US170316604003    30220         Kedzie        0.350314\n",
       "3  1500000US170315102002    30089  95th/Dan Ryan        4.226759\n",
       "4  1500000US170316718001    30057   Ashland/63rd        0.560197"
      ]
     },
     "execution_count": 5,
     "metadata": {},
     "output_type": "execute_result"
    }
   ],
   "source": [
    "cta = cta.rename(columns={\"geo_id\": \"GEO_ID\"})\n",
    "cta = cta[['GEO_ID', 'stop_id', 'station_name', 'distance_miles']]\n",
    "cta.head()"
   ]
  },
  {
   "cell_type": "code",
   "execution_count": 6,
   "metadata": {},
   "outputs": [],
   "source": [
    "sales = sales.rename(columns={\"sale_year\": \"Year\"})"
   ]
  },
  {
   "cell_type": "code",
   "execution_count": 7,
   "metadata": {},
   "outputs": [],
   "source": [
    "df = sales.merge(census, on=[\"GEO_ID\", \"Year\"], how='left')"
   ]
  },
  {
   "cell_type": "code",
   "execution_count": 8,
   "metadata": {},
   "outputs": [
    {
     "data": {
      "text/plain": [
       "(218374, 32)"
      ]
     },
     "execution_count": 8,
     "metadata": {},
     "output_type": "execute_result"
    }
   ],
   "source": [
    "df.shape"
   ]
  },
  {
   "cell_type": "code",
   "execution_count": 9,
   "metadata": {},
   "outputs": [
    {
     "data": {
      "text/plain": [
       "(218374, 18)"
      ]
     },
     "execution_count": 9,
     "metadata": {},
     "output_type": "execute_result"
    }
   ],
   "source": [
    "sales.shape"
   ]
  },
  {
   "cell_type": "code",
   "execution_count": 10,
   "metadata": {},
   "outputs": [
    {
     "data": {
      "text/plain": [
       "(24506, 16)"
      ]
     },
     "execution_count": 10,
     "metadata": {},
     "output_type": "execute_result"
    }
   ],
   "source": [
    "census.shape"
   ]
  },
  {
   "cell_type": "code",
   "execution_count": 11,
   "metadata": {},
   "outputs": [],
   "source": [
    "df = df.merge(crimes, on=[\"GEO_ID\", \"Year\"], how='left')"
   ]
  },
  {
   "cell_type": "code",
   "execution_count": 12,
   "metadata": {},
   "outputs": [
    {
     "data": {
      "text/plain": [
       "(218374, 35)"
      ]
     },
     "execution_count": 12,
     "metadata": {},
     "output_type": "execute_result"
    }
   ],
   "source": [
    "df.shape"
   ]
  },
  {
   "cell_type": "code",
   "execution_count": 13,
   "metadata": {},
   "outputs": [
    {
     "data": {
      "text/plain": [
       "(218374, 18)"
      ]
     },
     "execution_count": 13,
     "metadata": {},
     "output_type": "execute_result"
    }
   ],
   "source": [
    "sales.shape"
   ]
  },
  {
   "cell_type": "code",
   "execution_count": 14,
   "metadata": {},
   "outputs": [
    {
     "data": {
      "text/plain": [
       "(15234, 5)"
      ]
     },
     "execution_count": 14,
     "metadata": {},
     "output_type": "execute_result"
    }
   ],
   "source": [
    "crimes.shape"
   ]
  },
  {
   "cell_type": "code",
   "execution_count": 15,
   "metadata": {},
   "outputs": [],
   "source": [
    "df = df.merge(cta, on=[\"GEO_ID\"], how='left')"
   ]
  },
  {
   "cell_type": "code",
   "execution_count": 16,
   "metadata": {},
   "outputs": [
    {
     "data": {
      "text/plain": [
       "(218374, 38)"
      ]
     },
     "execution_count": 16,
     "metadata": {},
     "output_type": "execute_result"
    }
   ],
   "source": [
    "df.shape"
   ]
  },
  {
   "cell_type": "code",
   "execution_count": 17,
   "metadata": {},
   "outputs": [
    {
     "data": {
      "text/plain": [
       "(218374, 18)"
      ]
     },
     "execution_count": 17,
     "metadata": {},
     "output_type": "execute_result"
    }
   ],
   "source": [
    "sales.shape"
   ]
  },
  {
   "cell_type": "code",
   "execution_count": 18,
   "metadata": {},
   "outputs": [
    {
     "data": {
      "text/plain": [
       "(2187, 4)"
      ]
     },
     "execution_count": 18,
     "metadata": {},
     "output_type": "execute_result"
    }
   ],
   "source": [
    "cta.shape"
   ]
  },
  {
   "cell_type": "code",
   "execution_count": 19,
   "metadata": {},
   "outputs": [
    {
     "data": {
      "text/html": [
       "<div>\n",
       "<style scoped>\n",
       "    .dataframe tbody tr th:only-of-type {\n",
       "        vertical-align: middle;\n",
       "    }\n",
       "\n",
       "    .dataframe tbody tr th {\n",
       "        vertical-align: top;\n",
       "    }\n",
       "\n",
       "    .dataframe thead th {\n",
       "        text-align: right;\n",
       "    }\n",
       "</style>\n",
       "<table border=\"1\" class=\"dataframe\">\n",
       "  <thead>\n",
       "    <tr style=\"text-align: right;\">\n",
       "      <th></th>\n",
       "      <th>pin</th>\n",
       "      <th>sale_price</th>\n",
       "      <th>Year</th>\n",
       "      <th>est_land</th>\n",
       "      <th>est_bldg</th>\n",
       "      <th>age</th>\n",
       "      <th>addr</th>\n",
       "      <th>centroid_x</th>\n",
       "      <th>centroid_y</th>\n",
       "      <th>bldg_sf</th>\n",
       "      <th>...</th>\n",
       "      <th>Percent HH with Children</th>\n",
       "      <th>Percent Housing Vacant</th>\n",
       "      <th>geo_12</th>\n",
       "      <th>Number of Public Schools</th>\n",
       "      <th>crime_count</th>\n",
       "      <th>total_pop</th>\n",
       "      <th>crimes_per_capita</th>\n",
       "      <th>stop_id</th>\n",
       "      <th>station_name</th>\n",
       "      <th>distance_miles</th>\n",
       "    </tr>\n",
       "  </thead>\n",
       "  <tbody>\n",
       "    <tr>\n",
       "      <th>0</th>\n",
       "      <td>17273100931118</td>\n",
       "      <td>53000.0</td>\n",
       "      <td>2015</td>\n",
       "      <td>9180</td>\n",
       "      <td>14870</td>\n",
       "      <td>44</td>\n",
       "      <td>2921 S MICHIGAN AVE</td>\n",
       "      <td>-87.622577</td>\n",
       "      <td>41.840229</td>\n",
       "      <td>NaN</td>\n",
       "      <td>...</td>\n",
       "      <td>0.265432</td>\n",
       "      <td>0.111835</td>\n",
       "      <td>1.703184e+11</td>\n",
       "      <td>1.0</td>\n",
       "      <td>1254.0</td>\n",
       "      <td>1598641.0</td>\n",
       "      <td>0.000784</td>\n",
       "      <td>30382.0</td>\n",
       "      <td>Cermak-McCormick Place</td>\n",
       "      <td>0.213983</td>\n",
       "    </tr>\n",
       "    <tr>\n",
       "      <th>1</th>\n",
       "      <td>17343220150000</td>\n",
       "      <td>410000.0</td>\n",
       "      <td>2018</td>\n",
       "      <td>96250</td>\n",
       "      <td>237350</td>\n",
       "      <td>130</td>\n",
       "      <td>3819 S WABASH AVE</td>\n",
       "      <td>-87.624368</td>\n",
       "      <td>41.824955</td>\n",
       "      <td>5050.0</td>\n",
       "      <td>...</td>\n",
       "      <td>0.433090</td>\n",
       "      <td>0.062945</td>\n",
       "      <td>1.703135e+11</td>\n",
       "      <td>1.0</td>\n",
       "      <td>1776.0</td>\n",
       "      <td>3018904.0</td>\n",
       "      <td>0.000588</td>\n",
       "      <td>30214.0</td>\n",
       "      <td>35th-Bronzeville-IIT</td>\n",
       "      <td>0.183507</td>\n",
       "    </tr>\n",
       "    <tr>\n",
       "      <th>2</th>\n",
       "      <td>17341030641004</td>\n",
       "      <td>250000.0</td>\n",
       "      <td>2019</td>\n",
       "      <td>22500</td>\n",
       "      <td>186210</td>\n",
       "      <td>11</td>\n",
       "      <td>223 E 31ST ST</td>\n",
       "      <td>-87.620801</td>\n",
       "      <td>41.838154</td>\n",
       "      <td>NaN</td>\n",
       "      <td>...</td>\n",
       "      <td>NaN</td>\n",
       "      <td>NaN</td>\n",
       "      <td>NaN</td>\n",
       "      <td>NaN</td>\n",
       "      <td>480.0</td>\n",
       "      <td>459360.0</td>\n",
       "      <td>0.001045</td>\n",
       "      <td>30214.0</td>\n",
       "      <td>35th-Bronzeville-IIT</td>\n",
       "      <td>0.303191</td>\n",
       "    </tr>\n",
       "    <tr>\n",
       "      <th>3</th>\n",
       "      <td>17343101361002</td>\n",
       "      <td>174900.0</td>\n",
       "      <td>2018</td>\n",
       "      <td>17420</td>\n",
       "      <td>109140</td>\n",
       "      <td>12</td>\n",
       "      <td>3552 S GILES AVE</td>\n",
       "      <td>-87.619647</td>\n",
       "      <td>41.829557</td>\n",
       "      <td>NaN</td>\n",
       "      <td>...</td>\n",
       "      <td>0.187919</td>\n",
       "      <td>0.360335</td>\n",
       "      <td>1.703184e+11</td>\n",
       "      <td>3.0</td>\n",
       "      <td>1146.0</td>\n",
       "      <td>1078768.0</td>\n",
       "      <td>0.001062</td>\n",
       "      <td>30214.0</td>\n",
       "      <td>35th-Bronzeville-IIT</td>\n",
       "      <td>0.450940</td>\n",
       "    </tr>\n",
       "    <tr>\n",
       "      <th>4</th>\n",
       "      <td>17334230234016</td>\n",
       "      <td>114218.0</td>\n",
       "      <td>2017</td>\n",
       "      <td>6840</td>\n",
       "      <td>75590</td>\n",
       "      <td>7</td>\n",
       "      <td>3506 S STATE ST</td>\n",
       "      <td>-87.627133</td>\n",
       "      <td>41.830734</td>\n",
       "      <td>NaN</td>\n",
       "      <td>...</td>\n",
       "      <td>0.525000</td>\n",
       "      <td>0.086758</td>\n",
       "      <td>1.703135e+11</td>\n",
       "      <td>0.0</td>\n",
       "      <td>450.0</td>\n",
       "      <td>218175.0</td>\n",
       "      <td>0.002063</td>\n",
       "      <td>30214.0</td>\n",
       "      <td>35th-Bronzeville-IIT</td>\n",
       "      <td>0.088796</td>\n",
       "    </tr>\n",
       "  </tbody>\n",
       "</table>\n",
       "<p>5 rows × 38 columns</p>\n",
       "</div>"
      ],
      "text/plain": [
       "              pin  sale_price  Year  est_land  est_bldg  age  \\\n",
       "0  17273100931118     53000.0  2015      9180     14870   44   \n",
       "1  17343220150000    410000.0  2018     96250    237350  130   \n",
       "2  17341030641004    250000.0  2019     22500    186210   11   \n",
       "3  17343101361002    174900.0  2018     17420    109140   12   \n",
       "4  17334230234016    114218.0  2017      6840     75590    7   \n",
       "\n",
       "                  addr  centroid_x  centroid_y  bldg_sf  ...  \\\n",
       "0  2921 S MICHIGAN AVE  -87.622577   41.840229      NaN  ...   \n",
       "1    3819 S WABASH AVE  -87.624368   41.824955   5050.0  ...   \n",
       "2        223 E 31ST ST  -87.620801   41.838154      NaN  ...   \n",
       "3     3552 S GILES AVE  -87.619647   41.829557      NaN  ...   \n",
       "4      3506 S STATE ST  -87.627133   41.830734      NaN  ...   \n",
       "\n",
       "  Percent HH with Children Percent Housing Vacant        geo_12  \\\n",
       "0                 0.265432               0.111835  1.703184e+11   \n",
       "1                 0.433090               0.062945  1.703135e+11   \n",
       "2                      NaN                    NaN           NaN   \n",
       "3                 0.187919               0.360335  1.703184e+11   \n",
       "4                 0.525000               0.086758  1.703135e+11   \n",
       "\n",
       "   Number of Public Schools  crime_count  total_pop  crimes_per_capita  \\\n",
       "0                       1.0       1254.0  1598641.0           0.000784   \n",
       "1                       1.0       1776.0  3018904.0           0.000588   \n",
       "2                       NaN        480.0   459360.0           0.001045   \n",
       "3                       3.0       1146.0  1078768.0           0.001062   \n",
       "4                       0.0        450.0   218175.0           0.002063   \n",
       "\n",
       "   stop_id            station_name  distance_miles  \n",
       "0  30382.0  Cermak-McCormick Place        0.213983  \n",
       "1  30214.0    35th-Bronzeville-IIT        0.183507  \n",
       "2  30214.0    35th-Bronzeville-IIT        0.303191  \n",
       "3  30214.0    35th-Bronzeville-IIT        0.450940  \n",
       "4  30214.0    35th-Bronzeville-IIT        0.088796  \n",
       "\n",
       "[5 rows x 38 columns]"
      ]
     },
     "execution_count": 19,
     "metadata": {},
     "output_type": "execute_result"
    }
   ],
   "source": [
    "df.head()"
   ]
  },
  {
   "cell_type": "code",
   "execution_count": 20,
   "metadata": {},
   "outputs": [],
   "source": [
    "df.to_csv('data/Full Data.csv', index=False)"
   ]
  },
  {
   "cell_type": "code",
   "execution_count": null,
   "metadata": {},
   "outputs": [],
   "source": []
  }
 ],
 "metadata": {
  "kernelspec": {
   "display_name": "Python 3",
   "language": "python",
   "name": "python3"
  },
  "language_info": {
   "codemirror_mode": {
    "name": "ipython",
    "version": 3
   },
   "file_extension": ".py",
   "mimetype": "text/x-python",
   "name": "python",
   "nbconvert_exporter": "python",
   "pygments_lexer": "ipython3",
   "version": "3.7.7"
  }
 },
 "nbformat": 4,
 "nbformat_minor": 4
}
