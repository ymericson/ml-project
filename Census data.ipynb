{
 "cells": [
  {
   "cell_type": "code",
   "execution_count": 3,
   "metadata": {},
   "outputs": [],
   "source": [
    "import pandas as pd\n",
    "import numpy as np\n",
    "import seaborn as sns\n",
    "import matplotlib.pyplot as plt\n",
    "import geopandas as gpd\n",
    "import censusdata\n",
    "import censusdata\n",
    "import geopandas as gpd"
   ]
  },
  {
   "cell_type": "code",
   "execution_count": 29,
   "metadata": {},
   "outputs": [],
   "source": [
    "import warnings\n",
    "import pandas as pd\n",
    "from pandas.core.common import SettingWithCopyWarning\n",
    "warnings.simplefilter(action=\"ignore\", category=SettingWithCopyWarning)"
   ]
  },
  {
   "cell_type": "code",
   "execution_count": 30,
   "metadata": {},
   "outputs": [],
   "source": [
    "# IL FIPS = 17\n",
    "# Cook County FIPS = 031\n",
    "\n",
    "# Table = B02001_001E (Total Population)\n",
    "# Table = B01002_001E (Median Age)\n",
    "# Table = B02001_002E (Total White)\n",
    "# Table = B02001_003E (Total Black)\n",
    "# Table = B19013_001E (Median Household Income of the last 12 months)\n",
    "\n",
    "# Table = B25001_001E (Total Housing Units)\n",
    "# Table = B25002_003E (Total Vacant Units)\n",
    "# Table = B25018_001E (Median number of rooms)\n",
    "# Table = B25035_001E (Median year structure built)\n",
    "# Table = B25064_001E (Median gross rent)\n",
    "\n",
    "# Table = B25010_001E (Average Household Size)\n",
    "# Table = B23007_002E/B23007_001E (Households with children under 18)/(Total households)"
   ]
  },
  {
   "cell_type": "code",
   "execution_count": 31,
   "metadata": {},
   "outputs": [],
   "source": [
    "def gather_census(years, tables):\n",
    "    df = pd.DataFrame()\n",
    "    for t in tables:\n",
    "        table = pd.DataFrame()\n",
    "        for y in years:\n",
    "            temp = pd.DataFrame(censusdata.download(\n",
    "                 \"acs5\", y, censusdata.censusgeo(\n",
    "                 [(\"state\", \"17\"), (\"county\", \"031\"), (\"block group\", \"*\")]),\n",
    "                 [t, \"GEO_ID\"])).reset_index(drop=True)\n",
    "            temp['Year'] = y\n",
    "            table = table.append(temp)\n",
    "            \n",
    "        if df.shape[0] == 0:\n",
    "            df = table\n",
    "        else:\n",
    "            df = pd.merge(df, table, how=\"inner\", on=[\"GEO_ID\", \"Year\"])\n",
    "            \n",
    "    return df"
   ]
  },
  {
   "cell_type": "code",
   "execution_count": 32,
   "metadata": {},
   "outputs": [],
   "source": [
    "years = [2013, 2014, 2015, 2016, 2017, 2018]\n",
    "tables = ['B02001_001E', 'B01002_001E', 'B02001_002E', 'B02001_003E',\n",
    "          'B19013_001E', 'B25001_001E', 'B25002_003E', 'B25018_001E',\n",
    "          'B25035_001E', 'B25064_001E', 'B25010_001E', 'B23007_002E',\n",
    "          'B23007_001E']"
   ]
  },
  {
   "cell_type": "code",
   "execution_count": 33,
   "metadata": {
    "scrolled": true
   },
   "outputs": [],
   "source": [
    "df = gather_census(years, tables)"
   ]
  },
  {
   "cell_type": "code",
   "execution_count": 34,
   "metadata": {},
   "outputs": [],
   "source": [
    "df = df.rename(columns={\"B02001_001E\": \"Total Population\", \"B01002_001E\": \"Median Age\",\n",
    "                  \"B02001_002E\": \"Total White\", \"B02001_003E\": \"Total Black\",\n",
    "                  \"B19013_001E\": \"Median HH Income\", \"B25001_001E\": \"Total Housing Units\",\n",
    "                  \"B25002_003E\": \"Total Vacant Units\", \"B25018_001E\": \"Median Number of Rooms\",\n",
    "                  \"B25035_001E\": \"Median Year Built\", \"B25064_001E\": \"Median Gross Rent\",\n",
    "                  \"B25010_001E\": \"Mean HH Size\", \"B23007_002E\": \"HH with Children\",\n",
    "                  \"B23007_001E\": \"Total HH\"})"
   ]
  },
  {
   "cell_type": "code",
   "execution_count": 35,
   "metadata": {},
   "outputs": [],
   "source": [
    "def check_dataframe_datatypes(df):\n",
    "    '''\n",
    "    Purpose: Go through all variables in the DataFrame and print out \n",
    "    basic information regarding each column: datatype, counts, missing values.\n",
    "    \n",
    "    Inputs:\n",
    "        df (dataframe): data to explore\n",
    "\n",
    "    Returns: None, function only prints out the info'''\n",
    "    \n",
    "    print(\"DataFrame shape: \", df.shape, \"\\n\\n\")\n",
    "\n",
    "    for v in df.columns:\n",
    "        if df[v].dtype == 'O':\n",
    "            print(v, 'is Object with ', len(df[v].unique()), ' unique values')\n",
    "            print(pd.DataFrame(df[v].value_counts()))\n",
    "            print(\"NA counts: \", df[df[v].isna()].shape[0])\n",
    "            print(\"\\n\\n\")\n",
    "\n",
    "        elif df[v].dtype == 'bool':\n",
    "            print(v, 'is Bool')\n",
    "            print(pd.DataFrame(df[v].value_counts()))\n",
    "            print(\"NA counts: \", df[df[v].isna()].shape[0])\n",
    "            print(\"\\n\\n\")\n",
    "\n",
    "        elif df[v].dtype in ('float64', 'int64'):\n",
    "            print(v, 'is Numeric')\n",
    "            print(pd.DataFrame(df[v].describe()))\n",
    "            print(\"NA counts: \", df[df[v].isna()].shape[0])\n",
    "            print(\"\\n\\n\")\n",
    "        \n",
    "        elif df[v].dtype in ('datetime64', '<M8[ns]'):\n",
    "            print(v, 'is DateTime')\n",
    "            print(pd.DataFrame(df[v].describe()))\n",
    "            print(\"NA counts: \", df[df[v].isna()].shape[0])\n",
    "            print(\"\\n\\n\")\n",
    "\n",
    "        else: \n",
    "            print(v, 'is Some Other Data Types')\n",
    "            print(pd.DataFrame(df[v].describe()))\n",
    "            print(\"NA counts: \", df[df[v].isna()].shape[0])\n",
    "            print(\"\\n\\n\")\n",
    "\n",
    "    return None"
   ]
  },
  {
   "cell_type": "code",
   "execution_count": 36,
   "metadata": {
    "scrolled": true
   },
   "outputs": [
    {
     "name": "stdout",
     "output_type": "stream",
     "text": [
      "DataFrame shape:  (23958, 15) \n",
      "\n",
      "\n",
      "Total Population is Numeric\n",
      "       Total Population\n",
      "count      23958.000000\n",
      "mean        1309.225603\n",
      "std          619.832893\n",
      "min            0.000000\n",
      "25%          888.000000\n",
      "50%         1195.000000\n",
      "75%         1607.750000\n",
      "max        10317.000000\n",
      "NA counts:  0\n",
      "\n",
      "\n",
      "\n",
      "GEO_ID is Object with  3993  unique values\n",
      "                       GEO_ID\n",
      "1500000US170318060042       6\n",
      "1500000US170312429001       6\n",
      "1500000US170318081002       6\n",
      "1500000US170314207005       6\n",
      "1500000US170317404002       6\n",
      "...                       ...\n",
      "1500000US170318331001       6\n",
      "1500000US170318282024       6\n",
      "1500000US170318282011       6\n",
      "1500000US170318050023       6\n",
      "1500000US170312309003       6\n",
      "\n",
      "[3993 rows x 1 columns]\n",
      "NA counts:  0\n",
      "\n",
      "\n",
      "\n",
      "Year is Numeric\n",
      "               Year\n",
      "count  23958.000000\n",
      "mean    2015.500000\n",
      "std        1.707861\n",
      "min     2013.000000\n",
      "25%     2014.000000\n",
      "50%     2015.500000\n",
      "75%     2017.000000\n",
      "max     2018.000000\n",
      "NA counts:  0\n",
      "\n",
      "\n",
      "\n",
      "Median Age is Numeric\n",
      "         Median Age\n",
      "count  2.395800e+04\n",
      "mean  -1.613898e+06\n",
      "std    3.276274e+07\n",
      "min   -6.666667e+08\n",
      "25%    3.160000e+01\n",
      "50%    3.690000e+01\n",
      "75%    4.340000e+01\n",
      "max    8.720000e+01\n",
      "NA counts:  0\n",
      "\n",
      "\n",
      "\n",
      "Total White is Numeric\n",
      "        Total White\n",
      "count  23958.000000\n",
      "mean     742.875282\n",
      "std      574.143750\n",
      "min        0.000000\n",
      "25%      281.000000\n",
      "50%      707.000000\n",
      "75%     1077.000000\n",
      "max     4416.000000\n",
      "NA counts:  0\n",
      "\n",
      "\n",
      "\n",
      "Total Black is Numeric\n",
      "        Total Black\n",
      "count  23958.000000\n",
      "mean     313.641456\n",
      "std      467.530109\n",
      "min        0.000000\n",
      "25%        6.000000\n",
      "50%       72.000000\n",
      "75%      498.750000\n",
      "max     6806.000000\n",
      "NA counts:  0\n",
      "\n",
      "\n",
      "\n",
      "Median HH Income is Numeric\n",
      "       Median HH Income\n",
      "count      2.383300e+04\n",
      "mean      -1.395245e+07\n",
      "std        9.564782e+07\n",
      "min       -6.666667e+08\n",
      "25%        3.729200e+04\n",
      "50%        5.471800e+04\n",
      "75%        7.861100e+04\n",
      "max        2.500010e+05\n",
      "NA counts:  125\n",
      "\n",
      "\n",
      "\n",
      "Total Housing Units is Numeric\n",
      "       Total Housing Units\n",
      "count         23958.000000\n",
      "mean            545.937516\n",
      "std             286.914916\n",
      "min               0.000000\n",
      "25%             359.000000\n",
      "50%             477.000000\n",
      "75%             666.000000\n",
      "max            4540.000000\n",
      "NA counts:  0\n",
      "\n",
      "\n",
      "\n",
      "Total Vacant Units is Numeric\n",
      "       Total Vacant Units\n",
      "count        23958.000000\n",
      "mean            58.226062\n",
      "std             61.644406\n",
      "min              0.000000\n",
      "25%             15.000000\n",
      "50%             43.000000\n",
      "75%             83.000000\n",
      "max            875.000000\n",
      "NA counts:  0\n",
      "\n",
      "\n",
      "\n",
      "Median Number of Rooms is Numeric\n",
      "       Median Number of Rooms\n",
      "count            2.395800e+04\n",
      "mean            -1.808715e+06\n",
      "std              3.467842e+07\n",
      "min             -6.666667e+08\n",
      "25%              4.600000e+00\n",
      "50%              5.300000e+00\n",
      "75%              6.000000e+00\n",
      "max              1.000000e+01\n",
      "NA counts:  0\n",
      "\n",
      "\n",
      "\n",
      "Median Year Built is Numeric\n",
      "       Median Year Built\n",
      "count       2.395800e+04\n",
      "mean       -2.780800e+06\n",
      "std         4.298189e+07\n",
      "min        -6.666667e+08\n",
      "25%         1.939000e+03\n",
      "50%         1.954000e+03\n",
      "75%         1.965000e+03\n",
      "max         2.011000e+03\n",
      "NA counts:  0\n",
      "\n",
      "\n",
      "\n",
      "Median Gross Rent is Numeric\n",
      "       Median Gross Rent\n",
      "count       2.388500e+04\n",
      "mean       -1.279735e+08\n",
      "std         2.625679e+08\n",
      "min        -6.666667e+08\n",
      "25%         7.160000e+02\n",
      "50%         9.280000e+02\n",
      "75%         1.136000e+03\n",
      "max         3.501000e+03\n",
      "NA counts:  73\n",
      "\n",
      "\n",
      "\n",
      "Mean HH Size is Numeric\n",
      "       Mean HH Size\n",
      "count  2.395800e+04\n",
      "mean  -1.892197e+06\n",
      "std    3.546743e+07\n",
      "min   -6.666667e+08\n",
      "25%    2.300000e+00\n",
      "50%    2.730000e+00\n",
      "75%    3.160000e+00\n",
      "max    7.670000e+00\n",
      "NA counts:  0\n",
      "\n",
      "\n",
      "\n",
      "HH with Children is Numeric\n",
      "       HH with Children\n",
      "count      23958.000000\n",
      "mean         131.205568\n",
      "std           81.368702\n",
      "min            0.000000\n",
      "25%           75.000000\n",
      "50%          119.000000\n",
      "75%          173.000000\n",
      "max          792.000000\n",
      "NA counts:  0\n",
      "\n",
      "\n",
      "\n",
      "Total HH is Numeric\n",
      "           Total HH\n",
      "count  23958.000000\n",
      "mean     295.605476\n",
      "std      147.849111\n",
      "min        0.000000\n",
      "25%      198.000000\n",
      "50%      270.000000\n",
      "75%      365.000000\n",
      "max     1807.000000\n",
      "NA counts:  0\n",
      "\n",
      "\n",
      "\n"
     ]
    }
   ],
   "source": [
    "check_dataframe_datatypes(df)"
   ]
  },
  {
   "cell_type": "code",
   "execution_count": 37,
   "metadata": {
    "scrolled": true
   },
   "outputs": [
    {
     "name": "stdout",
     "output_type": "stream",
     "text": [
      "['Total Population']\n"
     ]
    },
    {
     "data": {
      "image/png": "[encoded data removed]",
      "text/plain": [
       "<Figure size 432x288 with 6 Axes>"
      ]
     },
     "metadata": {
      "needs_background": "light"
     },
     "output_type": "display_data"
    },
    {
     "name": "stdout",
     "output_type": "stream",
     "text": [
      "['Median Age']\n"
     ]
    },
    {
     "data": {
      "image/png": "[encoded data removed]",
      "text/plain": [
       "<Figure size 432x288 with 6 Axes>"
      ]
     },
     "metadata": {
      "needs_background": "light"
     },
     "output_type": "display_data"
    },
    {
     "name": "stdout",
     "output_type": "stream",
     "text": [
      "['Total White']\n"
     ]
    },
    {
     "data": {
      "image/png": "[encoded data removed]",
      "text/plain": [
       "<Figure size 432x288 with 6 Axes>"
      ]
     },
     "metadata": {
      "needs_background": "light"
     },
     "output_type": "display_data"
    },
    {
     "name": "stdout",
     "output_type": "stream",
     "text": [
      "['Total Black']\n"
     ]
    },
    {
     "data": {
      "image/png": "[encoded data removed]",
      "text/plain": [
       "<Figure size 432x288 with 6 Axes>"
      ]
     },
     "metadata": {
      "needs_background": "light"
     },
     "output_type": "display_data"
    },
    {
     "name": "stdout",
     "output_type": "stream",
     "text": [
      "['Median HH Income']\n"
     ]
    },
    {
     "data": {
      "image/png": "[encoded data removed]",
      "text/plain": [
       "<Figure size 432x288 with 6 Axes>"
      ]
     },
     "metadata": {
      "needs_background": "light"
     },
     "output_type": "display_data"
    },
    {
     "name": "stdout",
     "output_type": "stream",
     "text": [
      "['Total Housing Units']\n"
     ]
    },
    {
     "data": {
      "image/png": "[encoded data removed]",
      "text/plain": [
       "<Figure size 432x288 with 6 Axes>"
      ]
     },
     "metadata": {
      "needs_background": "light"
     },
     "output_type": "display_data"
    },
    {
     "name": "stdout",
     "output_type": "stream",
     "text": [
      "['Total Vacant Units']\n"
     ]
    },
    {
     "data": {
      "image/png": "[encoded data removed]",
      "text/plain": [
       "<Figure size 432x288 with 6 Axes>"
      ]
     },
     "metadata": {
      "needs_background": "light"
     },
     "output_type": "display_data"
    },
    {
     "name": "stdout",
     "output_type": "stream",
     "text": [
      "['Median Number of Rooms']\n"
     ]
    },
    {
     "data": {
      "image/png": "[encoded data removed]",
      "text/plain": [
       "<Figure size 432x288 with 6 Axes>"
      ]
     },
     "metadata": {
      "needs_background": "light"
     },
     "output_type": "display_data"
    },
    {
     "name": "stdout",
     "output_type": "stream",
     "text": [
      "['Median Year Built']\n"
     ]
    },
    {
     "data": {
      "image/png": "[encoded data removed]",
      "text/plain": [
       "<Figure size 432x288 with 6 Axes>"
      ]
     },
     "metadata": {
      "needs_background": "light"
     },
     "output_type": "display_data"
    },
    {
     "name": "stdout",
     "output_type": "stream",
     "text": [
      "['Median Gross Rent']\n"
     ]
    },
    {
     "data": {
      "image/png": "[encoded data removed]",
      "text/plain": [
       "<Figure size 432x288 with 6 Axes>"
      ]
     },
     "metadata": {
      "needs_background": "light"
     },
     "output_type": "display_data"
    },
    {
     "name": "stdout",
     "output_type": "stream",
     "text": [
      "['Mean HH Size']\n"
     ]
    },
    {
     "data": {
      "image/png": "[encoded data removed]",
      "text/plain": [
       "<Figure size 432x288 with 6 Axes>"
      ]
     },
     "metadata": {
      "needs_background": "light"
     },
     "output_type": "display_data"
    },
    {
     "name": "stdout",
     "output_type": "stream",
     "text": [
      "['HH with Children']\n"
     ]
    },
    {
     "data": {
      "image/png": "[encoded data removed]",
      "text/plain": [
       "<Figure size 432x288 with 6 Axes>"
      ]
     },
     "metadata": {
      "needs_background": "light"
     },
     "output_type": "display_data"
    },
    {
     "name": "stdout",
     "output_type": "stream",
     "text": [
      "['Total HH']\n"
     ]
    },
    {
     "data": {
      "image/png": "[encoded data removed]",
      "text/plain": [
       "<Figure size 432x288 with 6 Axes>"
      ]
     },
     "metadata": {
      "needs_background": "light"
     },
     "output_type": "display_data"
    }
   ],
   "source": [
    "for f in [['Total Population'], ['Median Age'],\n",
    "          ['Total White'], ['Total Black'],\n",
    "          ['Median HH Income'], ['Total Housing Units'],\n",
    "          ['Total Vacant Units'], ['Median Number of Rooms'],\n",
    "          ['Median Year Built'], ['Median Gross Rent'],\n",
    "          ['Mean HH Size'], ['HH with Children'],\n",
    "          ['Total HH']]:\n",
    "    print(f)\n",
    "    df[f].hist(by=df['Year'], bins=50, alpha=0.5)\n",
    "    plt.show()"
   ]
  },
  {
   "cell_type": "code",
   "execution_count": 38,
   "metadata": {},
   "outputs": [],
   "source": [
    "df['Median Age'][df['Median Age'] < 0] = None\n",
    "df['Median HH Income'][df['Median HH Income'] < 0] = None\n",
    "df['Median Number of Rooms'][df['Median Number of Rooms'] < 0] = None\n",
    "df['Median Year Built'][df['Median Year Built'] <= 0] = None\n",
    "df['Median Gross Rent'][df['Median Gross Rent'] < 0] = None\n",
    "df['Mean HH Size'][df['Mean HH Size'] < 0] = None"
   ]
  },
  {
   "cell_type": "code",
   "execution_count": 39,
   "metadata": {},
   "outputs": [
    {
     "name": "stdout",
     "output_type": "stream",
     "text": [
      "DataFrame shape:  (23958, 15) \n",
      "\n",
      "\n",
      "Total Population is Numeric\n",
      "       Total Population\n",
      "count      23958.000000\n",
      "mean        1309.225603\n",
      "std          619.832893\n",
      "min            0.000000\n",
      "25%          888.000000\n",
      "50%         1195.000000\n",
      "75%         1607.750000\n",
      "max        10317.000000\n",
      "NA counts:  0\n",
      "\n",
      "\n",
      "\n",
      "GEO_ID is Object with  3993  unique values\n",
      "                       GEO_ID\n",
      "1500000US170318060042       6\n",
      "1500000US170312429001       6\n",
      "1500000US170318081002       6\n",
      "1500000US170314207005       6\n",
      "1500000US170317404002       6\n",
      "...                       ...\n",
      "1500000US170318331001       6\n",
      "1500000US170318282024       6\n",
      "1500000US170318282011       6\n",
      "1500000US170318050023       6\n",
      "1500000US170312309003       6\n",
      "\n",
      "[3993 rows x 1 columns]\n",
      "NA counts:  0\n",
      "\n",
      "\n",
      "\n",
      "Year is Numeric\n",
      "               Year\n",
      "count  23958.000000\n",
      "mean    2015.500000\n",
      "std        1.707861\n",
      "min     2013.000000\n",
      "25%     2014.000000\n",
      "50%     2015.500000\n",
      "75%     2017.000000\n",
      "max     2018.000000\n",
      "NA counts:  0\n",
      "\n",
      "\n",
      "\n",
      "Median Age is Numeric\n",
      "         Median Age\n",
      "count  23900.000000\n",
      "mean      37.929628\n",
      "std        8.592751\n",
      "min       13.900000\n",
      "25%       31.600000\n",
      "50%       36.900000\n",
      "75%       43.400000\n",
      "max       87.200000\n",
      "NA counts:  58\n",
      "\n",
      "\n",
      "\n",
      "Total White is Numeric\n",
      "        Total White\n",
      "count  23958.000000\n",
      "mean     742.875282\n",
      "std      574.143750\n",
      "min        0.000000\n",
      "25%      281.000000\n",
      "50%      707.000000\n",
      "75%     1077.000000\n",
      "max     4416.000000\n",
      "NA counts:  0\n",
      "\n",
      "\n",
      "\n",
      "Total Black is Numeric\n",
      "        Total Black\n",
      "count  23958.000000\n",
      "mean     313.641456\n",
      "std      467.530109\n",
      "min        0.000000\n",
      "25%        6.000000\n",
      "50%       72.000000\n",
      "75%      498.750000\n",
      "max     6806.000000\n",
      "NA counts:  0\n",
      "\n",
      "\n",
      "\n",
      "Median HH Income is Numeric\n",
      "       Median HH Income\n",
      "count      23332.000000\n",
      "mean       63053.182753\n",
      "std        35009.328866\n",
      "min         4042.000000\n",
      "25%        38485.750000\n",
      "50%        55477.000000\n",
      "75%        79424.500000\n",
      "max       250001.000000\n",
      "NA counts:  626\n",
      "\n",
      "\n",
      "\n",
      "Total Housing Units is Numeric\n",
      "       Total Housing Units\n",
      "count         23958.000000\n",
      "mean            545.937516\n",
      "std             286.914916\n",
      "min               0.000000\n",
      "25%             359.000000\n",
      "50%             477.000000\n",
      "75%             666.000000\n",
      "max            4540.000000\n",
      "NA counts:  0\n",
      "\n",
      "\n",
      "\n",
      "Total Vacant Units is Numeric\n",
      "       Total Vacant Units\n",
      "count        23958.000000\n",
      "mean            58.226062\n",
      "std             61.644406\n",
      "min              0.000000\n",
      "25%             15.000000\n",
      "50%             43.000000\n",
      "75%             83.000000\n",
      "max            875.000000\n",
      "NA counts:  0\n",
      "\n",
      "\n",
      "\n",
      "Median Number of Rooms is Numeric\n",
      "       Median Number of Rooms\n",
      "count            23893.000000\n",
      "mean                 5.360491\n",
      "std                  1.169474\n",
      "min                  1.400000\n",
      "25%                  4.700000\n",
      "50%                  5.300000\n",
      "75%                  6.000000\n",
      "max                 10.000000\n",
      "NA counts:  65\n",
      "\n",
      "\n",
      "\n",
      "Median Year Built is Numeric\n",
      "       Median Year Built\n",
      "count       22623.000000\n",
      "mean         1956.070680\n",
      "std            16.010481\n",
      "min          1939.000000\n",
      "25%          1939.000000\n",
      "50%          1955.000000\n",
      "75%          1966.000000\n",
      "max          2011.000000\n",
      "NA counts:  1335\n",
      "\n",
      "\n",
      "\n",
      "Median Gross Rent is Numeric\n",
      "       Median Gross Rent\n",
      "count       19300.000000\n",
      "mean         1078.025181\n",
      "std           357.940511\n",
      "min           182.000000\n",
      "25%           857.000000\n",
      "50%           987.000000\n",
      "75%          1207.000000\n",
      "max          3501.000000\n",
      "NA counts:  4658\n",
      "\n",
      "\n",
      "\n",
      "Mean HH Size is Numeric\n",
      "       Mean HH Size\n",
      "count  23890.000000\n",
      "mean       2.760325\n",
      "std        0.672932\n",
      "min        1.020000\n",
      "25%        2.310000\n",
      "50%        2.740000\n",
      "75%        3.160000\n",
      "max        7.670000\n",
      "NA counts:  68\n",
      "\n",
      "\n",
      "\n",
      "HH with Children is Numeric\n",
      "       HH with Children\n",
      "count      23958.000000\n",
      "mean         131.205568\n",
      "std           81.368702\n",
      "min            0.000000\n",
      "25%           75.000000\n",
      "50%          119.000000\n",
      "75%          173.000000\n",
      "max          792.000000\n",
      "NA counts:  0\n",
      "\n",
      "\n",
      "\n",
      "Total HH is Numeric\n",
      "           Total HH\n",
      "count  23958.000000\n",
      "mean     295.605476\n",
      "std      147.849111\n",
      "min        0.000000\n",
      "25%      198.000000\n",
      "50%      270.000000\n",
      "75%      365.000000\n",
      "max     1807.000000\n",
      "NA counts:  0\n",
      "\n",
      "\n",
      "\n"
     ]
    }
   ],
   "source": [
    "check_dataframe_datatypes(df)"
   ]
  },
  {
   "cell_type": "code",
   "execution_count": 40,
   "metadata": {
    "scrolled": true
   },
   "outputs": [
    {
     "name": "stdout",
     "output_type": "stream",
     "text": [
      "['Total Population']\n"
     ]
    },
    {
     "data": {
      "image/png": "[encoded data removed]",
      "text/plain": [
       "<Figure size 432x288 with 6 Axes>"
      ]
     },
     "metadata": {
      "needs_background": "light"
     },
     "output_type": "display_data"
    },
    {
     "name": "stdout",
     "output_type": "stream",
     "text": [
      "['Median Age']\n"
     ]
    },
    {
     "data": {
      "image/png": "[encoded data removed]",
      "text/plain": [
       "<Figure size 432x288 with 6 Axes>"
      ]
     },
     "metadata": {
      "needs_background": "light"
     },
     "output_type": "display_data"
    },
    {
     "name": "stdout",
     "output_type": "stream",
     "text": [
      "['Total White']\n"
     ]
    },
    {
     "data": {
      "image/png": "[encoded data removed]",
      "text/plain": [
       "<Figure size 432x288 with 6 Axes>"
      ]
     },
     "metadata": {
      "needs_background": "light"
     },
     "output_type": "display_data"
    },
    {
     "name": "stdout",
     "output_type": "stream",
     "text": [
      "['Total Black']\n"
     ]
    },
    {
     "data": {
      "image/png": "[encoded data removed]",
      "text/plain": [
       "<Figure size 432x288 with 6 Axes>"
      ]
     },
     "metadata": {
      "needs_background": "light"
     },
     "output_type": "display_data"
    },
    {
     "name": "stdout",
     "output_type": "stream",
     "text": [
      "['Median HH Income']\n"
     ]
    },
    {
     "data": {
      "image/png": "[encoded data removed]",
      "text/plain": [
       "<Figure size 432x288 with 6 Axes>"
      ]
     },
     "metadata": {
      "needs_background": "light"
     },
     "output_type": "display_data"
    },
    {
     "name": "stdout",
     "output_type": "stream",
     "text": [
      "['Total Housing Units']\n"
     ]
    },
    {
     "data": {
      "image/png": "[encoded data removed]",
      "text/plain": [
       "<Figure size 432x288 with 6 Axes>"
      ]
     },
     "metadata": {
      "needs_background": "light"
     },
     "output_type": "display_data"
    },
    {
     "name": "stdout",
     "output_type": "stream",
     "text": [
      "['Total Vacant Units']\n"
     ]
    },
    {
     "data": {
      "image/png": "[encoded data removed]",
      "text/plain": [
       "<Figure size 432x288 with 6 Axes>"
      ]
     },
     "metadata": {
      "needs_background": "light"
     },
     "output_type": "display_data"
    },
    {
     "name": "stdout",
     "output_type": "stream",
     "text": [
      "['Median Number of Rooms']\n"
     ]
    },
    {
     "data": {
      "image/png": "[encoded data removed]",
      "text/plain": [
       "<Figure size 432x288 with 6 Axes>"
      ]
     },
     "metadata": {
      "needs_background": "light"
     },
     "output_type": "display_data"
    },
    {
     "name": "stdout",
     "output_type": "stream",
     "text": [
      "['Median Year Built']\n"
     ]
    },
    {
     "data": {
      "image/png": "[encoded data removed]",
      "text/plain": [
       "<Figure size 432x288 with 6 Axes>"
      ]
     },
     "metadata": {
      "needs_background": "light"
     },
     "output_type": "display_data"
    },
    {
     "name": "stdout",
     "output_type": "stream",
     "text": [
      "['Median Gross Rent']\n"
     ]
    },
    {
     "data": {
      "image/png": "[encoded data removed]",
      "text/plain": [
       "<Figure size 432x288 with 6 Axes>"
      ]
     },
     "metadata": {
      "needs_background": "light"
     },
     "output_type": "display_data"
    },
    {
     "name": "stdout",
     "output_type": "stream",
     "text": [
      "['Mean HH Size']\n"
     ]
    },
    {
     "data": {
      "image/png": "[encoded data removed]",
      "text/plain": [
       "<Figure size 432x288 with 6 Axes>"
      ]
     },
     "metadata": {
      "needs_background": "light"
     },
     "output_type": "display_data"
    },
    {
     "name": "stdout",
     "output_type": "stream",
     "text": [
      "['HH with Children']\n"
     ]
    },
    {
     "data": {
      "image/png": "[encoded data removed]",
      "text/plain": [
       "<Figure size 432x288 with 6 Axes>"
      ]
     },
     "metadata": {
      "needs_background": "light"
     },
     "output_type": "display_data"
    },
    {
     "name": "stdout",
     "output_type": "stream",
     "text": [
      "['Total HH']\n"
     ]
    },
    {
     "data": {
      "image/png": "[encoded data removed]",
      "text/plain": [
       "<Figure size 432x288 with 6 Axes>"
      ]
     },
     "metadata": {
      "needs_background": "light"
     },
     "output_type": "display_data"
    }
   ],
   "source": [
    "for f in [['Total Population'], ['Median Age'],\n",
    "          ['Total White'], ['Total Black'],\n",
    "          ['Median HH Income'], ['Total Housing Units'],\n",
    "          ['Total Vacant Units'], ['Median Number of Rooms'],\n",
    "          ['Median Year Built'], ['Median Gross Rent'],\n",
    "          ['Mean HH Size'], ['HH with Children'],\n",
    "          ['Total HH']]:\n",
    "    print(f)\n",
    "    df[f].hist(by=df['Year'], bins=50, alpha=0.5)\n",
    "    plt.show()"
   ]
  },
  {
   "cell_type": "code",
   "execution_count": 41,
   "metadata": {},
   "outputs": [],
   "source": [
    "df['Percent White'] = df['Total White']/df['Total Population']\n",
    "df['Percent Black'] = df['Total Black']/df['Total Population']\n",
    "df['Percent HH with Children'] = df['HH with Children']/df['Total HH']\n",
    "df['Percent Housing Vacant'] = df['Total Vacant Units']/df['Total Housing Units']"
   ]
  },
  {
   "cell_type": "code",
   "execution_count": 42,
   "metadata": {},
   "outputs": [],
   "source": [
    "df = df[['GEO_ID', 'Year', 'Total Population', 'Median Age', \n",
    "         'Median HH Income', 'Total Housing Units', \n",
    "         'Median Number of Rooms', 'Median Year Built',\n",
    "         'Median Gross Rent', 'Mean HH Size',\n",
    "         'Percent White', 'Percent Black', \n",
    "         'Percent HH with Children', 'Percent Housing Vacant']]\n",
    "df[\"geo_12\"] = df[\"GEO_ID\"].map(lambda x: str(x)[-12:])"
   ]
  },
  {
   "cell_type": "code",
   "execution_count": 43,
   "metadata": {},
   "outputs": [
    {
     "data": {
      "text/html": [
       "<div>\n",
       "<style scoped>\n",
       "    .dataframe tbody tr th:only-of-type {\n",
       "        vertical-align: middle;\n",
       "    }\n",
       "\n",
       "    .dataframe tbody tr th {\n",
       "        vertical-align: top;\n",
       "    }\n",
       "\n",
       "    .dataframe thead th {\n",
       "        text-align: right;\n",
       "    }\n",
       "</style>\n",
       "<table border=\"1\" class=\"dataframe\">\n",
       "  <thead>\n",
       "    <tr style=\"text-align: right;\">\n",
       "      <th></th>\n",
       "      <th>GEO_ID</th>\n",
       "      <th>Year</th>\n",
       "      <th>Total Population</th>\n",
       "      <th>Median Age</th>\n",
       "      <th>Median HH Income</th>\n",
       "      <th>Total Housing Units</th>\n",
       "      <th>Median Number of Rooms</th>\n",
       "      <th>Median Year Built</th>\n",
       "      <th>Median Gross Rent</th>\n",
       "      <th>Mean HH Size</th>\n",
       "      <th>Percent White</th>\n",
       "      <th>Percent Black</th>\n",
       "      <th>Percent HH with Children</th>\n",
       "      <th>Percent Housing Vacant</th>\n",
       "      <th>geo_12</th>\n",
       "    </tr>\n",
       "  </thead>\n",
       "  <tbody>\n",
       "    <tr>\n",
       "      <th>0</th>\n",
       "      <td>1500000US170310302003</td>\n",
       "      <td>2013</td>\n",
       "      <td>1064</td>\n",
       "      <td>40.7</td>\n",
       "      <td>160893.0</td>\n",
       "      <td>450</td>\n",
       "      <td>7.3</td>\n",
       "      <td>1939.0</td>\n",
       "      <td>963.0</td>\n",
       "      <td>2.60</td>\n",
       "      <td>0.916353</td>\n",
       "      <td>0.000000</td>\n",
       "      <td>0.604348</td>\n",
       "      <td>0.088889</td>\n",
       "      <td>170310302003</td>\n",
       "    </tr>\n",
       "    <tr>\n",
       "      <th>1</th>\n",
       "      <td>1500000US170310302004</td>\n",
       "      <td>2013</td>\n",
       "      <td>1828</td>\n",
       "      <td>26.7</td>\n",
       "      <td>60568.0</td>\n",
       "      <td>711</td>\n",
       "      <td>5.1</td>\n",
       "      <td>1939.0</td>\n",
       "      <td>1150.0</td>\n",
       "      <td>2.54</td>\n",
       "      <td>0.818381</td>\n",
       "      <td>0.085339</td>\n",
       "      <td>0.638060</td>\n",
       "      <td>0.000000</td>\n",
       "      <td>170310302004</td>\n",
       "    </tr>\n",
       "    <tr>\n",
       "      <th>2</th>\n",
       "      <td>1500000US170310303001</td>\n",
       "      <td>2013</td>\n",
       "      <td>1306</td>\n",
       "      <td>36.1</td>\n",
       "      <td>28621.0</td>\n",
       "      <td>747</td>\n",
       "      <td>4.1</td>\n",
       "      <td>1945.0</td>\n",
       "      <td>868.0</td>\n",
       "      <td>2.04</td>\n",
       "      <td>0.556662</td>\n",
       "      <td>0.231240</td>\n",
       "      <td>0.665072</td>\n",
       "      <td>0.143240</td>\n",
       "      <td>170310303001</td>\n",
       "    </tr>\n",
       "    <tr>\n",
       "      <th>3</th>\n",
       "      <td>1500000US170310303002</td>\n",
       "      <td>2013</td>\n",
       "      <td>1625</td>\n",
       "      <td>35.7</td>\n",
       "      <td>38257.0</td>\n",
       "      <td>801</td>\n",
       "      <td>4.1</td>\n",
       "      <td>1943.0</td>\n",
       "      <td>838.0</td>\n",
       "      <td>2.22</td>\n",
       "      <td>0.700308</td>\n",
       "      <td>0.047385</td>\n",
       "      <td>0.524590</td>\n",
       "      <td>0.084894</td>\n",
       "      <td>170310303002</td>\n",
       "    </tr>\n",
       "    <tr>\n",
       "      <th>4</th>\n",
       "      <td>1500000US170310304001</td>\n",
       "      <td>2013</td>\n",
       "      <td>1450</td>\n",
       "      <td>36.0</td>\n",
       "      <td>26875.0</td>\n",
       "      <td>877</td>\n",
       "      <td>4.1</td>\n",
       "      <td>1961.0</td>\n",
       "      <td>732.0</td>\n",
       "      <td>1.85</td>\n",
       "      <td>0.693793</td>\n",
       "      <td>0.133793</td>\n",
       "      <td>0.427673</td>\n",
       "      <td>0.104903</td>\n",
       "      <td>170310304001</td>\n",
       "    </tr>\n",
       "  </tbody>\n",
       "</table>\n",
       "</div>"
      ],
      "text/plain": [
       "                  GEO_ID  Year  Total Population  Median Age  \\\n",
       "0  1500000US170310302003  2013              1064        40.7   \n",
       "1  1500000US170310302004  2013              1828        26.7   \n",
       "2  1500000US170310303001  2013              1306        36.1   \n",
       "3  1500000US170310303002  2013              1625        35.7   \n",
       "4  1500000US170310304001  2013              1450        36.0   \n",
       "\n",
       "   Median HH Income  Total Housing Units  Median Number of Rooms  \\\n",
       "0          160893.0                  450                     7.3   \n",
       "1           60568.0                  711                     5.1   \n",
       "2           28621.0                  747                     4.1   \n",
       "3           38257.0                  801                     4.1   \n",
       "4           26875.0                  877                     4.1   \n",
       "\n",
       "   Median Year Built  Median Gross Rent  Mean HH Size  Percent White  \\\n",
       "0             1939.0              963.0          2.60       0.916353   \n",
       "1             1939.0             1150.0          2.54       0.818381   \n",
       "2             1945.0              868.0          2.04       0.556662   \n",
       "3             1943.0              838.0          2.22       0.700308   \n",
       "4             1961.0              732.0          1.85       0.693793   \n",
       "\n",
       "   Percent Black  Percent HH with Children  Percent Housing Vacant  \\\n",
       "0       0.000000                  0.604348                0.088889   \n",
       "1       0.085339                  0.638060                0.000000   \n",
       "2       0.231240                  0.665072                0.143240   \n",
       "3       0.047385                  0.524590                0.084894   \n",
       "4       0.133793                  0.427673                0.104903   \n",
       "\n",
       "         geo_12  \n",
       "0  170310302003  \n",
       "1  170310302004  \n",
       "2  170310303001  \n",
       "3  170310303002  \n",
       "4  170310304001  "
      ]
     },
     "execution_count": 43,
     "metadata": {},
     "output_type": "execute_result"
    }
   ],
   "source": [
    "df.head()"
   ]
  },
  {
   "cell_type": "code",
   "execution_count": 44,
   "metadata": {},
   "outputs": [],
   "source": [
    "schools_12 = gpd.read_file(\"https://data.cityofchicago.org/resource/anck-gptm.geojson?$limit=9999999\")\n",
    "schools_12['Year'] = 2012\n",
    "schools_13 = gpd.read_file(\"https://data.cityofchicago.org/resource/98wb-ks45.geojson?$limit=9999999\")\n",
    "schools_13['Year'] = 2013\n",
    "schools_14 = gpd.read_file(\"https://data.cityofchicago.org/resource/dgq3-i7xm.geojson?$limit=9999999\")\n",
    "schools_14['Year'] = 2014\n",
    "schools_15 = gpd.read_file(\"https://data.cityofchicago.org/resource/mntu-576c.geojson?$limit=9999999\")\n",
    "schools_15['Year'] = 2015\n",
    "schools_16 = gpd.read_file(\"https://data.cityofchicago.org/resource/mb74-gx3g.geojson?$limit=9999999\")\n",
    "schools_16['Year'] = 2016\n",
    "schools_17 = gpd.read_file(\"https://data.cityofchicago.org/resource/75e5-35kf.geojson?$limit=9999999\")\n",
    "schools_17['Year'] = 2017\n",
    "schools_18 = gpd.read_file(\"https://data.cityofchicago.org/resource/d2h8-2upd.geojson?$limit=9999999\")\n",
    "schools_18['Year'] = 2018\n"
   ]
  },
  {
   "cell_type": "code",
   "execution_count": 45,
   "metadata": {},
   "outputs": [
    {
     "data": {
      "text/plain": [
       "(4717, 22)"
      ]
     },
     "execution_count": 45,
     "metadata": {},
     "output_type": "execute_result"
    }
   ],
   "source": [
    "schools = schools_12.append(schools_13)\n",
    "schools = schools.append(schools_14)\n",
    "schools = schools.append(schools_15)\n",
    "schools = schools.append(schools_16)\n",
    "schools = schools.append(schools_17)\n",
    "schools = schools.append(schools_18)\n",
    "schools.shape"
   ]
  },
  {
   "cell_type": "code",
   "execution_count": 46,
   "metadata": {},
   "outputs": [],
   "source": [
    "chicago_gdf = gpd.read_file(\"https://data.cityofchicago.org/resource/bt9m-d2mf.geojson?$limit=9999999\")\n",
    "chicago_gdf[\"geo_12\"] = chicago_gdf[\"geoid10\"].map(lambda x: str(x)[:12])"
   ]
  },
  {
   "cell_type": "code",
   "execution_count": 47,
   "metadata": {},
   "outputs": [],
   "source": [
    "schools_gdf = gpd.sjoin(chicago_gdf, schools, how=\"left\", op='intersects')"
   ]
  },
  {
   "cell_type": "code",
   "execution_count": 48,
   "metadata": {},
   "outputs": [
    {
     "data": {
      "text/html": [
       "<div>\n",
       "<style scoped>\n",
       "    .dataframe tbody tr th:only-of-type {\n",
       "        vertical-align: middle;\n",
       "    }\n",
       "\n",
       "    .dataframe tbody tr th {\n",
       "        vertical-align: top;\n",
       "    }\n",
       "\n",
       "    .dataframe thead th {\n",
       "        text-align: right;\n",
       "    }\n",
       "</style>\n",
       "<table border=\"1\" class=\"dataframe\">\n",
       "  <thead>\n",
       "    <tr style=\"text-align: right;\">\n",
       "      <th></th>\n",
       "      <th>statefp10</th>\n",
       "      <th>name10</th>\n",
       "      <th>blockce10</th>\n",
       "      <th>tract_bloc</th>\n",
       "      <th>geoid10</th>\n",
       "      <th>tractce10</th>\n",
       "      <th>countyfp10</th>\n",
       "      <th>geometry</th>\n",
       "      <th>geo_12</th>\n",
       "      <th>index_right</th>\n",
       "      <th>...</th>\n",
       "      <th>governance</th>\n",
       "      <th>ald_15</th>\n",
       "      <th>long</th>\n",
       "      <th>commarea</th>\n",
       "      <th>short_name</th>\n",
       "      <th>ward_15</th>\n",
       "      <th>address</th>\n",
       "      <th>geo_network</th>\n",
       "      <th>lat</th>\n",
       "      <th>phone</th>\n",
       "    </tr>\n",
       "  </thead>\n",
       "  <tbody>\n",
       "    <tr>\n",
       "      <th>0</th>\n",
       "      <td>17</td>\n",
       "      <td>Block 2010</td>\n",
       "      <td>2010</td>\n",
       "      <td>6903002010</td>\n",
       "      <td>170316903002010</td>\n",
       "      <td>690300</td>\n",
       "      <td>031</td>\n",
       "      <td>MULTIPOLYGON (((-87.62907 41.76909, -87.62905 ...</td>\n",
       "      <td>170316903002</td>\n",
       "      <td>NaN</td>\n",
       "      <td>...</td>\n",
       "      <td>NaN</td>\n",
       "      <td>NaN</td>\n",
       "      <td>NaN</td>\n",
       "      <td>NaN</td>\n",
       "      <td>NaN</td>\n",
       "      <td>NaN</td>\n",
       "      <td>NaN</td>\n",
       "      <td>NaN</td>\n",
       "      <td>NaN</td>\n",
       "      <td>NaN</td>\n",
       "    </tr>\n",
       "    <tr>\n",
       "      <th>1</th>\n",
       "      <td>17</td>\n",
       "      <td>Block 3007</td>\n",
       "      <td>3007</td>\n",
       "      <td>6809003007</td>\n",
       "      <td>170316809003007</td>\n",
       "      <td>680900</td>\n",
       "      <td>031</td>\n",
       "      <td>MULTIPOLYGON (((-87.63412 41.77447, -87.63410 ...</td>\n",
       "      <td>170316809003</td>\n",
       "      <td>NaN</td>\n",
       "      <td>...</td>\n",
       "      <td>NaN</td>\n",
       "      <td>NaN</td>\n",
       "      <td>NaN</td>\n",
       "      <td>NaN</td>\n",
       "      <td>NaN</td>\n",
       "      <td>NaN</td>\n",
       "      <td>NaN</td>\n",
       "      <td>NaN</td>\n",
       "      <td>NaN</td>\n",
       "      <td>NaN</td>\n",
       "    </tr>\n",
       "    <tr>\n",
       "      <th>2</th>\n",
       "      <td>17</td>\n",
       "      <td>Block 3013</td>\n",
       "      <td>3013</td>\n",
       "      <td>6809003013</td>\n",
       "      <td>170316809003013</td>\n",
       "      <td>680900</td>\n",
       "      <td>031</td>\n",
       "      <td>MULTIPOLYGON (((-87.63485 41.77263, -87.63522 ...</td>\n",
       "      <td>170316809003</td>\n",
       "      <td>NaN</td>\n",
       "      <td>...</td>\n",
       "      <td>NaN</td>\n",
       "      <td>NaN</td>\n",
       "      <td>NaN</td>\n",
       "      <td>NaN</td>\n",
       "      <td>NaN</td>\n",
       "      <td>NaN</td>\n",
       "      <td>NaN</td>\n",
       "      <td>NaN</td>\n",
       "      <td>NaN</td>\n",
       "      <td>NaN</td>\n",
       "    </tr>\n",
       "    <tr>\n",
       "      <th>3</th>\n",
       "      <td>17</td>\n",
       "      <td>Block 4019</td>\n",
       "      <td>4019</td>\n",
       "      <td>2909004019</td>\n",
       "      <td>170312909004019</td>\n",
       "      <td>290900</td>\n",
       "      <td>031</td>\n",
       "      <td>MULTIPOLYGON (((-87.73841 41.85913, -87.73842 ...</td>\n",
       "      <td>170312909004</td>\n",
       "      <td>NaN</td>\n",
       "      <td>...</td>\n",
       "      <td>NaN</td>\n",
       "      <td>NaN</td>\n",
       "      <td>NaN</td>\n",
       "      <td>NaN</td>\n",
       "      <td>NaN</td>\n",
       "      <td>NaN</td>\n",
       "      <td>NaN</td>\n",
       "      <td>NaN</td>\n",
       "      <td>NaN</td>\n",
       "      <td>NaN</td>\n",
       "    </tr>\n",
       "    <tr>\n",
       "      <th>4</th>\n",
       "      <td>17</td>\n",
       "      <td>Block 4016</td>\n",
       "      <td>4016</td>\n",
       "      <td>2925004016</td>\n",
       "      <td>170312925004016</td>\n",
       "      <td>292500</td>\n",
       "      <td>031</td>\n",
       "      <td>MULTIPOLYGON (((-87.73217 41.85476, -87.73226 ...</td>\n",
       "      <td>170312925004</td>\n",
       "      <td>248.0</td>\n",
       "      <td>...</td>\n",
       "      <td>NaN</td>\n",
       "      <td>NaN</td>\n",
       "      <td>NaN</td>\n",
       "      <td>NaN</td>\n",
       "      <td>NaN</td>\n",
       "      <td>NaN</td>\n",
       "      <td>NaN</td>\n",
       "      <td>NaN</td>\n",
       "      <td>NaN</td>\n",
       "      <td>NaN</td>\n",
       "    </tr>\n",
       "  </tbody>\n",
       "</table>\n",
       "<p>5 rows × 31 columns</p>\n",
       "</div>"
      ],
      "text/plain": [
       "  statefp10      name10 blockce10  tract_bloc          geoid10 tractce10  \\\n",
       "0        17  Block 2010      2010  6903002010  170316903002010    690300   \n",
       "1        17  Block 3007      3007  6809003007  170316809003007    680900   \n",
       "2        17  Block 3013      3013  6809003013  170316809003013    680900   \n",
       "3        17  Block 4019      4019  2909004019  170312909004019    290900   \n",
       "4        17  Block 4016      4016  2925004016  170312925004016    292500   \n",
       "\n",
       "  countyfp10                                           geometry        geo_12  \\\n",
       "0        031  MULTIPOLYGON (((-87.62907 41.76909, -87.62905 ...  170316903002   \n",
       "1        031  MULTIPOLYGON (((-87.63412 41.77447, -87.63410 ...  170316809003   \n",
       "2        031  MULTIPOLYGON (((-87.63485 41.77263, -87.63522 ...  170316809003   \n",
       "3        031  MULTIPOLYGON (((-87.73841 41.85913, -87.73842 ...  170312909004   \n",
       "4        031  MULTIPOLYGON (((-87.73217 41.85476, -87.73226 ...  170312925004   \n",
       "\n",
       "   index_right  ... governance ald_15 long commarea short_name ward_15  \\\n",
       "0          NaN  ...        NaN    NaN  NaN      NaN        NaN     NaN   \n",
       "1          NaN  ...        NaN    NaN  NaN      NaN        NaN     NaN   \n",
       "2          NaN  ...        NaN    NaN  NaN      NaN        NaN     NaN   \n",
       "3          NaN  ...        NaN    NaN  NaN      NaN        NaN     NaN   \n",
       "4        248.0  ...        NaN    NaN  NaN      NaN        NaN     NaN   \n",
       "\n",
       "  address geo_network  lat phone  \n",
       "0     NaN         NaN  NaN   NaN  \n",
       "1     NaN         NaN  NaN   NaN  \n",
       "2     NaN         NaN  NaN   NaN  \n",
       "3     NaN         NaN  NaN   NaN  \n",
       "4     NaN         NaN  NaN   NaN  \n",
       "\n",
       "[5 rows x 31 columns]"
      ]
     },
     "execution_count": 48,
     "metadata": {},
     "output_type": "execute_result"
    }
   ],
   "source": [
    "schools_gdf.head()"
   ]
  },
  {
   "cell_type": "code",
   "execution_count": 49,
   "metadata": {},
   "outputs": [],
   "source": [
    "schools_geo12 = schools_gdf[['Year', 'geo_12', 'school_id']].groupby(['Year', 'geo_12']).count().reset_index().rename(columns = {'school_id': 'Number of Public Schools'})"
   ]
  },
  {
   "cell_type": "code",
   "execution_count": 50,
   "metadata": {},
   "outputs": [],
   "source": [
    "df = df.merge(schools_geo12, on=[\"geo_12\", \"Year\"], how='outer')"
   ]
  },
  {
   "cell_type": "code",
   "execution_count": 51,
   "metadata": {},
   "outputs": [],
   "source": [
    "df['Number of Public Schools'][df['Number of Public Schools'].isna()] = 0"
   ]
  },
  {
   "cell_type": "code",
   "execution_count": 52,
   "metadata": {},
   "outputs": [
    {
     "data": {
      "text/html": [
       "<div>\n",
       "<style scoped>\n",
       "    .dataframe tbody tr th:only-of-type {\n",
       "        vertical-align: middle;\n",
       "    }\n",
       "\n",
       "    .dataframe tbody tr th {\n",
       "        vertical-align: top;\n",
       "    }\n",
       "\n",
       "    .dataframe thead th {\n",
       "        text-align: right;\n",
       "    }\n",
       "</style>\n",
       "<table border=\"1\" class=\"dataframe\">\n",
       "  <thead>\n",
       "    <tr style=\"text-align: right;\">\n",
       "      <th></th>\n",
       "      <th>GEO_ID</th>\n",
       "      <th>Year</th>\n",
       "      <th>Total Population</th>\n",
       "      <th>Median Age</th>\n",
       "      <th>Median HH Income</th>\n",
       "      <th>Total Housing Units</th>\n",
       "      <th>Median Number of Rooms</th>\n",
       "      <th>Median Year Built</th>\n",
       "      <th>Median Gross Rent</th>\n",
       "      <th>Mean HH Size</th>\n",
       "      <th>Percent White</th>\n",
       "      <th>Percent Black</th>\n",
       "      <th>Percent HH with Children</th>\n",
       "      <th>Percent Housing Vacant</th>\n",
       "      <th>geo_12</th>\n",
       "      <th>Number of Public Schools</th>\n",
       "    </tr>\n",
       "  </thead>\n",
       "  <tbody>\n",
       "    <tr>\n",
       "      <th>0</th>\n",
       "      <td>1500000US170310302003</td>\n",
       "      <td>2013</td>\n",
       "      <td>1064.0</td>\n",
       "      <td>40.7</td>\n",
       "      <td>160893.0</td>\n",
       "      <td>450.0</td>\n",
       "      <td>7.3</td>\n",
       "      <td>1939.0</td>\n",
       "      <td>963.0</td>\n",
       "      <td>2.60</td>\n",
       "      <td>0.916353</td>\n",
       "      <td>0.000000</td>\n",
       "      <td>0.604348</td>\n",
       "      <td>0.088889</td>\n",
       "      <td>170310302003</td>\n",
       "      <td>0.0</td>\n",
       "    </tr>\n",
       "    <tr>\n",
       "      <th>1</th>\n",
       "      <td>1500000US170310302004</td>\n",
       "      <td>2013</td>\n",
       "      <td>1828.0</td>\n",
       "      <td>26.7</td>\n",
       "      <td>60568.0</td>\n",
       "      <td>711.0</td>\n",
       "      <td>5.1</td>\n",
       "      <td>1939.0</td>\n",
       "      <td>1150.0</td>\n",
       "      <td>2.54</td>\n",
       "      <td>0.818381</td>\n",
       "      <td>0.085339</td>\n",
       "      <td>0.638060</td>\n",
       "      <td>0.000000</td>\n",
       "      <td>170310302004</td>\n",
       "      <td>1.0</td>\n",
       "    </tr>\n",
       "    <tr>\n",
       "      <th>2</th>\n",
       "      <td>1500000US170310303001</td>\n",
       "      <td>2013</td>\n",
       "      <td>1306.0</td>\n",
       "      <td>36.1</td>\n",
       "      <td>28621.0</td>\n",
       "      <td>747.0</td>\n",
       "      <td>4.1</td>\n",
       "      <td>1945.0</td>\n",
       "      <td>868.0</td>\n",
       "      <td>2.04</td>\n",
       "      <td>0.556662</td>\n",
       "      <td>0.231240</td>\n",
       "      <td>0.665072</td>\n",
       "      <td>0.143240</td>\n",
       "      <td>170310303001</td>\n",
       "      <td>0.0</td>\n",
       "    </tr>\n",
       "    <tr>\n",
       "      <th>3</th>\n",
       "      <td>1500000US170310303002</td>\n",
       "      <td>2013</td>\n",
       "      <td>1625.0</td>\n",
       "      <td>35.7</td>\n",
       "      <td>38257.0</td>\n",
       "      <td>801.0</td>\n",
       "      <td>4.1</td>\n",
       "      <td>1943.0</td>\n",
       "      <td>838.0</td>\n",
       "      <td>2.22</td>\n",
       "      <td>0.700308</td>\n",
       "      <td>0.047385</td>\n",
       "      <td>0.524590</td>\n",
       "      <td>0.084894</td>\n",
       "      <td>170310303002</td>\n",
       "      <td>0.0</td>\n",
       "    </tr>\n",
       "    <tr>\n",
       "      <th>4</th>\n",
       "      <td>1500000US170310304001</td>\n",
       "      <td>2013</td>\n",
       "      <td>1450.0</td>\n",
       "      <td>36.0</td>\n",
       "      <td>26875.0</td>\n",
       "      <td>877.0</td>\n",
       "      <td>4.1</td>\n",
       "      <td>1961.0</td>\n",
       "      <td>732.0</td>\n",
       "      <td>1.85</td>\n",
       "      <td>0.693793</td>\n",
       "      <td>0.133793</td>\n",
       "      <td>0.427673</td>\n",
       "      <td>0.104903</td>\n",
       "      <td>170310304001</td>\n",
       "      <td>0.0</td>\n",
       "    </tr>\n",
       "  </tbody>\n",
       "</table>\n",
       "</div>"
      ],
      "text/plain": [
       "                  GEO_ID  Year  Total Population  Median Age  \\\n",
       "0  1500000US170310302003  2013            1064.0        40.7   \n",
       "1  1500000US170310302004  2013            1828.0        26.7   \n",
       "2  1500000US170310303001  2013            1306.0        36.1   \n",
       "3  1500000US170310303002  2013            1625.0        35.7   \n",
       "4  1500000US170310304001  2013            1450.0        36.0   \n",
       "\n",
       "   Median HH Income  Total Housing Units  Median Number of Rooms  \\\n",
       "0          160893.0                450.0                     7.3   \n",
       "1           60568.0                711.0                     5.1   \n",
       "2           28621.0                747.0                     4.1   \n",
       "3           38257.0                801.0                     4.1   \n",
       "4           26875.0                877.0                     4.1   \n",
       "\n",
       "   Median Year Built  Median Gross Rent  Mean HH Size  Percent White  \\\n",
       "0             1939.0              963.0          2.60       0.916353   \n",
       "1             1939.0             1150.0          2.54       0.818381   \n",
       "2             1945.0              868.0          2.04       0.556662   \n",
       "3             1943.0              838.0          2.22       0.700308   \n",
       "4             1961.0              732.0          1.85       0.693793   \n",
       "\n",
       "   Percent Black  Percent HH with Children  Percent Housing Vacant  \\\n",
       "0       0.000000                  0.604348                0.088889   \n",
       "1       0.085339                  0.638060                0.000000   \n",
       "2       0.231240                  0.665072                0.143240   \n",
       "3       0.047385                  0.524590                0.084894   \n",
       "4       0.133793                  0.427673                0.104903   \n",
       "\n",
       "         geo_12  Number of Public Schools  \n",
       "0  170310302003                       0.0  \n",
       "1  170310302004                       1.0  \n",
       "2  170310303001                       0.0  \n",
       "3  170310303002                       0.0  \n",
       "4  170310304001                       0.0  "
      ]
     },
     "execution_count": 52,
     "metadata": {},
     "output_type": "execute_result"
    }
   ],
   "source": [
    "df.head()"
   ]
  },
  {
   "cell_type": "code",
   "execution_count": 53,
   "metadata": {},
   "outputs": [
    {
     "data": {
      "text/plain": [
       "array([2013, 2014, 2015, 2016, 2017, 2018, 2012])"
      ]
     },
     "execution_count": 53,
     "metadata": {},
     "output_type": "execute_result"
    }
   ],
   "source": [
    "df['Year'].unique()"
   ]
  },
  {
   "cell_type": "code",
   "execution_count": 54,
   "metadata": {},
   "outputs": [],
   "source": [
    "df.to_csv('data/Census data.csv', index=False)"
   ]
  }
 ],
 "metadata": {
  "kernelspec": {
   "display_name": "Python 3",
   "language": "python",
   "name": "python3"
  },
  "language_info": {
   "codemirror_mode": {
    "name": "ipython",
    "version": 3
   },
   "file_extension": ".py",
   "mimetype": "text/x-python",
   "name": "python",
   "nbconvert_exporter": "python",
   "pygments_lexer": "ipython3",
   "version": "3.7.7"
  }
 },
 "nbformat": 4,
 "nbformat_minor": 4
}
